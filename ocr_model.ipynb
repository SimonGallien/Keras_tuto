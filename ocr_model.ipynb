{
 "cells": [
  {
   "cell_type": "markdown",
   "id": "53bc10eb",
   "metadata": {},
   "source": [
    "# Handwriting recognition"
   ]
  },
  {
   "cell_type": "markdown",
   "id": "d1dcb943",
   "metadata": {},
   "source": [
    "## Data collection"
   ]
  },
  {
   "cell_type": "code",
   "execution_count": null,
   "id": "14221640",
   "metadata": {},
   "outputs": [],
   "source": [
    "# Commande Linux pour extraire les images dans data/words\n",
    "!tar -xf data/IAM_Words/words.tgz -C data/words\n",
    "# Commande Linux pour déplacer le fichier /data/IAM_Words/words.txt dans data/\n",
    "!mv data/IAM_Words/words.txt data\n"
   ]
  },
  {
   "cell_type": "code",
   "execution_count": 6,
   "id": "533d6fb2",
   "metadata": {},
   "outputs": [
    {
     "name": "stdout",
     "output_type": "stream",
     "text": [
      "#--- words.txt ---------------------------------------------------------------#\n",
      "#\n",
      "# iam database word information\n",
      "#\n",
      "# format: a01-000u-00-00 ok 154 1 408 768 27 51 AT A\n",
      "#\n",
      "#     a01-000u-00-00  -> word id for line 00 in form a01-000u\n",
      "#     ok              -> result of word segmentation\n",
      "#                            ok: word was correctly\n",
      "#                            er: segmentation of word can be bad\n",
      "#\n",
      "#     154             -> graylevel to binarize the line containing this word\n",
      "#     1               -> number of components for this word\n",
      "#     408 768 27 51   -> bounding box around this word in x,y,w,h format\n",
      "#     AT              -> the grammatical tag for this word, see the\n",
      "#                        file tagset.txt for an explanation\n",
      "#     A               -> the transcription for this word\n",
      "#\n",
      "a01-000u-00-00 ok 154 408 768 27 51 AT A\n",
      "a01-000u-00-01 ok 154 507 766 213 48 NN MOVE\n"
     ]
    }
   ],
   "source": [
    "!head -20 data/words.txt"
   ]
  },
  {
   "cell_type": "markdown",
   "id": "5a4b1f9c",
   "metadata": {},
   "source": [
    "## Imports"
   ]
  },
  {
   "cell_type": "code",
   "execution_count": null,
   "id": "197cb0e8",
   "metadata": {},
   "outputs": [
    {
     "name": "stderr",
     "output_type": "stream",
     "text": [
      "2025-09-07 22:55:55.553233: I external/local_xla/xla/tsl/cuda/cudart_stub.cc:31] Could not find cuda drivers on your machine, GPU will not be used.\n",
      "2025-09-07 22:55:55.553527: I tensorflow/core/util/port.cc:153] oneDNN custom operations are on. You may see slightly different numerical results due to floating-point round-off errors from different computation orders. To turn them off, set the environment variable `TF_ENABLE_ONEDNN_OPTS=0`.\n",
      "2025-09-07 22:55:55.599219: I tensorflow/core/platform/cpu_feature_guard.cc:210] This TensorFlow binary is optimized to use available CPU instructions in performance-critical operations.\n",
      "To enable the following instructions: AVX2 AVX_VNNI FMA, in other operations, rebuild TensorFlow with the appropriate compiler flags.\n",
      "2025-09-07 22:55:59.238056: I tensorflow/core/util/port.cc:153] oneDNN custom operations are on. You may see slightly different numerical results due to floating-point round-off errors from different computation orders. To turn them off, set the environment variable `TF_ENABLE_ONEDNN_OPTS=0`.\n",
      "2025-09-07 22:55:59.238331: I external/local_xla/xla/tsl/cuda/cudart_stub.cc:31] Could not find cuda drivers on your machine, GPU will not be used.\n"
     ]
    }
   ],
   "source": [
    "import keras\n",
    "from keras.layers import StringLookup\n",
    "from keras import ops\n",
    "import matplotlib.pyplot as plt\n",
    "import tensorflow as tf\n",
    "import numpy as np\n",
    "import os\n",
    "\n",
    "# Fix the random seed for reproducibility\n",
    "np.random.seed(42)\n",
    "keras.utils.set_random_seed(42)"
   ]
  },
  {
   "cell_type": "markdown",
   "id": "c583dcb3",
   "metadata": {},
   "source": [
    "## Dataset splitting"
   ]
  },
  {
   "cell_type": "code",
   "execution_count": 10,
   "id": "e69cc5b2",
   "metadata": {},
   "outputs": [
    {
     "name": "stdout",
     "output_type": "stream",
     "text": [
      "96456\n"
     ]
    }
   ],
   "source": [
    "base_path = \"data\"\n",
    "words_list = []\n",
    "\n",
    "words = open(f\"{base_path}/words.txt\", \"r\").readlines()\n",
    "for line in words:\n",
    "    if line[0] == \"#\": # If the first character of the line is \"#\" -> pass to the next line\n",
    "        continue\n",
    "    if line.split(\" \")[1] != \"err\":  # We don't need to deal with errored entries, we keep just the \"ok\"\n",
    "        words_list.append(line)\n",
    "\n",
    "print(len(words_list))\n",
    "\n",
    "np.random.shuffle(words_list)"
   ]
  },
  {
   "cell_type": "markdown",
   "id": "471505d4",
   "metadata": {},
   "source": [
    "### We will split the dataset into three subsets with a 90:5:5 ratio (train:validation:test)."
   ]
  },
  {
   "cell_type": "code",
   "execution_count": null,
   "id": "427a72e8",
   "metadata": {},
   "outputs": [
    {
     "name": "stdout",
     "output_type": "stream",
     "text": [
      "Total training samples: 86810\n",
      "Total validation samples: 4823\n",
      "Total test samples: 4823\n"
     ]
    }
   ],
   "source": [
    "split_idx = int(0.9 * len(words_list)) # 90% of the len of words_list\n",
    "train_samples = words_list[:split_idx] # keep 0 to 90% of the len of words_list\n",
    "test_samples = words_list[split_idx:] # keep 90% to 100% so the last 10% of words_list\n",
    "\n",
    "val_split_idx = int(0.5 * len(test_samples)) # 50% of the len of test_samples\n",
    "validation_samples = test_samples[:val_split_idx] # keep 0 to 50% of the len of test_samples\n",
    "test_samples = test_samples[val_split_idx:] # keep 50% to 100% so the last 50% of test_samples\n",
    "\n",
    "# test if the split is correct\n",
    "assert len(words_list) == len(train_samples) + len(validation_samples) + len(test_samples)\n",
    "\n",
    "print(f\"Total training samples: {len(train_samples)}\")\n",
    "print(f\"Total validation samples: {len(validation_samples)}\")\n",
    "print(f\"Total test samples: {len(test_samples)}\")"
   ]
  },
  {
   "cell_type": "markdown",
   "id": "13ade8ab",
   "metadata": {},
   "source": [
    "## Data input pipeline\n",
    "We start building our data input pipeline by first preparing the image paths."
   ]
  },
  {
   "cell_type": "code",
   "execution_count": 16,
   "id": "58355f7e",
   "metadata": {},
   "outputs": [],
   "source": [
    "base_image_path = os.path.join(base_path, \"words\")\n",
    "\n",
    "\n",
    "def get_image_paths_and_labels(samples):\n",
    "    paths = []\n",
    "    corrected_samples = []\n",
    "    for file_line in samples:\n",
    "        line_split = file_line.strip()\n",
    "        line_split = line_split.split(\" \")\n",
    "    \n",
    "        # Each line split will have this format for the corresponding image:\n",
    "        # part1/part1-part2/part1-part2-part3.png\n",
    "        # a01-000u-00-00 ok 154 408 768 27 51 AT A\n",
    "        image_name = line_split[0] # a01-000u-00-00\n",
    "        partI = image_name.split(\"-\")[0] # a01\n",
    "        partII = image_name.split(\"-\")[1] # 000u\n",
    "        img_path = os.path.join(\n",
    "            base_image_path, partI, partI + \"-\" + partII, image_name + \".png\"\n",
    "        ) # data/words/a01/a01-00u/a01-000u-00-00.png\n",
    "        if os.path.getsize(img_path):\n",
    "            paths.append(img_path)\n",
    "            corrected_samples.append(file_line.split(\"\\n\")[0])\n",
    "\n",
    "    return paths, corrected_samples\n",
    "\n",
    "\n",
    "train_img_paths, train_labels = get_image_paths_and_labels(train_samples)\n",
    "validation_img_paths, validation_labels = get_image_paths_and_labels(validation_samples)\n",
    "test_img_paths, test_labels = get_image_paths_and_labels(test_samples)"
   ]
  },
  {
   "cell_type": "markdown",
   "id": "b5f07223",
   "metadata": {},
   "source": [
    "Then we prepare the ground-truth labels."
   ]
  },
  {
   "cell_type": "code",
   "execution_count": 17,
   "id": "e19f8405",
   "metadata": {},
   "outputs": [
    {
     "name": "stdout",
     "output_type": "stream",
     "text": [
      "Maximum length:  21\n",
      "Vocab size:  78\n"
     ]
    },
    {
     "data": {
      "text/plain": [
       "['the',\n",
       " 'boy',\n",
       " 'By',\n",
       " 'to',\n",
       " 'must',\n",
       " 'position',\n",
       " 'opposed',\n",
       " 'was',\n",
       " 'Dr.',\n",
       " 'National']"
      ]
     },
     "execution_count": 17,
     "metadata": {},
     "output_type": "execute_result"
    }
   ],
   "source": [
    "# Find maximum length and the size of the vocabulary in the training data.\n",
    "train_labels_cleaned = []\n",
    "characters = set()\n",
    "max_len = 0\n",
    "\n",
    "for label in train_labels:\n",
    "    label = label.split(\" \")[-1].strip() # a01-000u-00-00 ok 154 408 768 27 51 AT A -> \"A\"\n",
    "    for char in label:\n",
    "        characters.add(char)\n",
    "\n",
    "    max_len = max(max_len, len(label))\n",
    "    train_labels_cleaned.append(label)\n",
    "\n",
    "characters = sorted(list(characters))\n",
    "\n",
    "print(\"Maximum length: \", max_len)\n",
    "print(\"Vocab size: \", len(characters))\n",
    "\n",
    "# Check some label samples.\n",
    "train_labels_cleaned[:10]"
   ]
  },
  {
   "cell_type": "markdown",
   "id": "b4d7ce89",
   "metadata": {},
   "source": [
    "Now we clean the validation and the test labels as well."
   ]
  },
  {
   "cell_type": "code",
   "execution_count": 18,
   "id": "428151fc",
   "metadata": {},
   "outputs": [],
   "source": [
    "def clean_labels(labels):\n",
    "    cleaned_labels = []\n",
    "    for label in labels:\n",
    "        label = label.split(\" \")[-1].strip()\n",
    "        cleaned_labels.append(label)\n",
    "    return cleaned_labels\n",
    "\n",
    "\n",
    "validation_labels_cleaned = clean_labels(validation_labels)\n",
    "test_labels_cleaned = clean_labels(test_labels)"
   ]
  },
  {
   "cell_type": "markdown",
   "id": "43598b34",
   "metadata": {},
   "source": [
    "## Building the character vocabulary\n",
    "Keras provides different preprocessing layers to deal with different modalities of data. This guide provides a comprehensive introduction. Our example involves preprocessing labels at the character level. This means that if there are two labels, e.g. \"cat\" and \"dog\", then our character vocabulary should be {a, c, d, g, o, t} (without any special tokens). We use the StringLookup layer for this purpose."
   ]
  },
  {
   "cell_type": "code",
   "execution_count": null,
   "id": "a0fa8b2b",
   "metadata": {},
   "outputs": [],
   "source": [
    "# The model can't work directly with characters.\n",
    "# It needs numbers (encoding) during training,\n",
    "# and then numbers are converted back to characters (decoding) for the result.\n",
    "\n",
    "AUTOTUNE = tf.data.AUTOTUNE\n",
    "\n",
    "# Mapping characters to integers.\n",
    "char_to_num = StringLookup(vocabulary=list(characters), mask_token=None)\n",
    "\n",
    "# Mapping integers back to original characters.\n",
    "num_to_char = StringLookup(vocabulary=char_to_num.get_vocabulary(), mask_token=None, invert=True)"
   ]
  },
  {
   "cell_type": "markdown",
   "id": "6e73319e",
   "metadata": {},
   "source": [
    "## Resizing images without distortion\n",
    "Instead of square images, many OCR models work with rectangular images. This will become clearer in a moment when we will visualize a few samples from the dataset. While aspect-unaware resizing square images does not introduce a significant amount of distortion this is not the case for rectangular images. But resizing images to a uniform size is a requirement for mini-batching. So we need to perform our resizing such that the following criteria are met:\n",
    "\n",
    "* Aspect ratio is preserved.\n",
    "* Content of the images is not affected."
   ]
  },
  {
   "cell_type": "code",
   "execution_count": 20,
   "id": "f374c755",
   "metadata": {},
   "outputs": [],
   "source": [
    "def distortion_free_resize(image, img_size):\n",
    "    w, h = img_size\n",
    "    image = tf.image.resize(image, size=(h, w), preserve_aspect_ratio=True)\n",
    "\n",
    "    # Check tha amount of padding needed to be done.\n",
    "    pad_height = h - ops.shape(image)[0]\n",
    "    pad_width = w - ops.shape(image)[1]\n",
    "\n",
    "    # Only necessary if you want to do same amount of padding on both sides.\n",
    "    if pad_height % 2 != 0:\n",
    "        height = pad_height // 2\n",
    "        pad_height_top = height + 1\n",
    "        pad_height_bottom = height\n",
    "    else:\n",
    "        pad_height_top = pad_height_bottom = pad_height // 2\n",
    "\n",
    "    if pad_width % 2 != 0:\n",
    "        width = pad_width // 2\n",
    "        pad_width_left = width + 1\n",
    "        pad_width_right = width\n",
    "    else:\n",
    "        pad_width_left = pad_width_right = pad_width // 2\n",
    "\n",
    "    image = tf.pad(\n",
    "        image,\n",
    "        paddings=[\n",
    "            [pad_height_top, pad_height_bottom],\n",
    "            [pad_width_left, pad_width_right],\n",
    "            [0, 0],\n",
    "        ],\n",
    "    )\n",
    "\n",
    "    image = ops.transpose(image, (1, 0, 2))\n",
    "    image = tf.image.flip_left_right(image)\n",
    "    return image"
   ]
  },
  {
   "cell_type": "markdown",
   "id": "974c7f5c",
   "metadata": {},
   "source": [
    "## Putting the utilities together"
   ]
  },
  {
   "cell_type": "code",
   "execution_count": null,
   "id": "a0b34a59",
   "metadata": {},
   "outputs": [],
   "source": [
    "batch_size = 64\n",
    "padding_token = 99\n",
    "image_width = 128\n",
    "image_height = 32\n",
    "\n",
    "\n",
    "def preprocess_image(image_path, img_size=(image_width, image_height)):\n",
    "    image = tf.io.read_file(image_path)\n",
    "    image = tf.image.decode_png(image, 1)\n",
    "    image = distortion_free_resize(image, img_size)\n",
    "    image = ops.cast(image, tf.float32) / 255.0\n",
    "    return image\n",
    "\n",
    "\n",
    "def vectorize_label(label):\n",
    "    label = char_to_num(tf.strings.unicode_split(label, input_encoding=\"UTF-8\"))\n",
    "    length = ops.shape(label)[0]\n",
    "    pad_amount = max_len - length\n",
    "    label = tf.pad(label, paddings=[[0, pad_amount]], constant_values=padding_token)\n",
    "    return label\n",
    "\n",
    "\n",
    "def process_images_labels(image_path, label):\n",
    "    image = preprocess_image(image_path)\n",
    "    label = vectorize_label(label)\n",
    "    return {\"image\": image, \"label\": label}\n",
    "\n",
    "\n",
    "def prepare_dataset(image_paths, labels):\n",
    "    dataset = tf.data.Dataset.from_tensor_slices((image_paths, labels)).map(\n",
    "        process_images_labels, num_parallel_calls=AUTOTUNE\n",
    "    )\n",
    "    return dataset.batch(batch_size).cache().prefetch(AUTOTUNE)"
   ]
  }
 ],
 "metadata": {
  "kernelspec": {
   "display_name": "tuto-ocr-py3.12",
   "language": "python",
   "name": "python3"
  },
  "language_info": {
   "codemirror_mode": {
    "name": "ipython",
    "version": 3
   },
   "file_extension": ".py",
   "mimetype": "text/x-python",
   "name": "python",
   "nbconvert_exporter": "python",
   "pygments_lexer": "ipython3",
   "version": "3.12.4"
  }
 },
 "nbformat": 4,
 "nbformat_minor": 5
}
